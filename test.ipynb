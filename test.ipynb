{
 "cells": [
  {
   "cell_type": "code",
   "execution_count": 1,
   "id": "8acccc08",
   "metadata": {},
   "outputs": [
    {
     "data": {
      "text/plain": [
       "140"
      ]
     },
     "execution_count": 1,
     "metadata": {},
     "output_type": "execute_result"
    }
   ],
   "source": [
    "s = \"MTSMTQSLREVIKAMTKARNFERVLGKITLVSAAPGKVICEMKVEEEHTNAIGTLHGGLTATLVDNISTMALLCTERGAPGVSVDMNITYMSPAKLGEDIVITAHVLKQGKTLAFTSVDLTNKATGKLIAQGRHTKHLGN\"\n",
    "len(s)"
   ]
  },
  {
   "cell_type": "code",
   "execution_count": 2,
   "id": "4b944c51",
   "metadata": {},
   "outputs": [],
   "source": [
    "from utils import compute_reward\n",
    "import torch\n",
    "from env import CodonDesignEnv\n",
    "from preprocessor import CodonSequencePreprocessor\n",
    "from torchgfn.src.gfn.gflownet import TBGFlowNet\n",
    "from torchgfn.src.gfn.modules import DiscretePolicyEstimator\n",
    "from torchgfn.src.gfn.utils.modules import MLP\n",
    "from torchgfn.src.gfn.samplers import Sampler\n",
    "from utils import load_config\n",
    "import numpy as np\n",
    "import matplotlib.pyplot as plt"
   ]
  },
  {
   "cell_type": "code",
   "execution_count": 3,
   "id": "1273e2bc",
   "metadata": {},
   "outputs": [],
   "source": [
    "def is_pareto_efficient_3d(costs):\n",
    "    \"\"\"\n",
    "    Determine Pareto-efficient points for 3 objectives.\n",
    "    costs: array of shape (N, 3) with objectives:\n",
    "        - (-CAI)  [we want to maximize CAI]\n",
    "        -  MFE    [we want to minimize MFE]\n",
    "        -  GC     [we want to maximize GC]\n",
    "    Returns: Boolean mask of Pareto-efficient points\n",
    "    \"\"\"\n",
    "    is_efficient = np.ones(costs.shape[0], dtype=bool)\n",
    "\n",
    "    for i, c in enumerate(costs):\n",
    "\n",
    "        if is_efficient[i]:\n",
    "\n",
    "            # Remove dominated points\n",
    "            is_efficient[is_efficient] = np.any(costs[is_efficient] > c, axis=1) | np.all(costs[is_efficient] == c, axis=1)\n",
    "            is_efficient[i] = True\n",
    "            \n",
    "    return is_efficient"
   ]
  },
  {
   "cell_type": "code",
   "execution_count": null,
   "id": "fd1c14ef",
   "metadata": {},
   "outputs": [],
   "source": [
    "def plot_pairwise_scatter_with_pareto(results, x_key=\"CAI\", y_key=\"MFE\"):\n",
    "    \"\"\"\n",
    "    Scatter plot of y_key vs x_key (e.g., MFE vs CAI) by config,\n",
    "    with Pareto front computed using all 3 objectives: CAI (maximize), MFE (minimize), GC (minimize).\n",
    "    \"\"\"\n",
    "\n",
    "    markers = ['o', 's', '^', 'D', 'v', 'P', 'X', '*']\n",
    "    colors = plt.cm.tab10.colors\n",
    "\n",
    "    all_points_2d = []\n",
    "    all_points_3d = []\n",
    "\n",
    "    plt.figure(figsize=(7, 6))\n",
    "\n",
    "    for i, res in enumerate(results):\n",
    "        xs = np.array(res[\"metrics\"][x_key])\n",
    "        ys = np.array(res[\"metrics\"][y_key])\n",
    "        gcs = np.array(res[\"metrics\"][\"GC\"])  # GC content\n",
    "        m = markers[i % len(markers)]\n",
    "        c = colors[i % len(colors)]\n",
    "\n",
    "        all_points_2d.extend(zip(xs, ys))\n",
    "        all_points_3d.extend(zip(xs, ys, gcs))\n",
    "\n",
    "        plt.scatter(xs, ys,\n",
    "                    marker=m, color=c,\n",
    "                    alpha=0.4,\n",
    "                    label=res[\"name\"],\n",
    "                    edgecolors='none',\n",
    "                    s=40)\n",
    "\n",
    "    # Compute Pareto front (maximize CAI => minimize -CAI)\n",
    "    cost_array = np.array([\n",
    "        [-x, y, -gc] for x, y, gc in all_points_3d\n",
    "    ])\n",
    "    pareto_mask = is_pareto_efficient_3d(cost_array)\n",
    "    pareto_points = np.array(all_points_2d)[pareto_mask]\n",
    "\n",
    "    # Sort Pareto front for plotting (by x_key, e.g. CAI)\n",
    "    pareto_sorted = pareto_points[np.argsort(pareto_points[:, 0])]\n",
    "\n",
    "    # Plot Pareto front\n",
    "    plt.plot(pareto_sorted[:, 0], pareto_sorted[:, 1], color=\"black\", linestyle=\"--\", label=\"Pareto Front\", linewidth=1.5)\n",
    "    plt.scatter(pareto_sorted[:, 0], pareto_sorted[:, 1], color=\"black\", edgecolor='k', marker='X', s=60, label=\"Pareto Points\")\n",
    "\n",
    "    # Axes and labels\n",
    "    plt.gca().invert_yaxis()  # Optional: since lower MFE is better\n",
    "    plt.xlabel(x_key.upper())\n",
    "    plt.ylabel(y_key.upper())\n",
    "    plt.title(f\"{y_key.upper()} vs {x_key.upper()} by Config\\nwith Pareto Front (incl. GC)\")\n",
    "    plt.legend(loc='best', fontsize='small', framealpha=0.8)\n",
    "    plt.grid(True, linestyle='--', alpha=0.5)\n",
    "    plt.tight_layout()\n",
    "    plt.savefig(f\"{y_key.upper()}_vs_{x_key.upper()}_with_Pareto.png\", dpi=300)\n",
    "    plt.show()"
   ]
  },
  {
   "cell_type": "code",
   "execution_count": 1,
   "id": "2b26b26a",
   "metadata": {},
   "outputs": [],
   "source": [
    "samples = {'d' :1 , 'dd' :2}"
   ]
  },
  {
   "cell_type": "code",
   "execution_count": 3,
   "id": "8e1af2d7",
   "metadata": {},
   "outputs": [
    {
     "data": {
      "text/plain": [
       "['d', 'dd']"
      ]
     },
     "execution_count": 3,
     "metadata": {},
     "output_type": "execute_result"
    }
   ],
   "source": [
    "list(samples.keys())"
   ]
  },
  {
   "cell_type": "code",
   "execution_count": null,
   "id": "61b6bece",
   "metadata": {},
   "outputs": [],
   "source": []
  }
 ],
 "metadata": {
  "kernelspec": {
   "display_name": "mRNA_env",
   "language": "python",
   "name": "python3"
  },
  "language_info": {
   "codemirror_mode": {
    "name": "ipython",
    "version": 3
   },
   "file_extension": ".py",
   "mimetype": "text/x-python",
   "name": "python",
   "nbconvert_exporter": "python",
   "pygments_lexer": "ipython3",
   "version": "3.10.16"
  }
 },
 "nbformat": 4,
 "nbformat_minor": 5
}
