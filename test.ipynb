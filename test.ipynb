{
 "cells": [
  {
   "cell_type": "markdown",
   "id": "1c768daa",
   "metadata": {},
   "source": [
    "## Conditional GflowNets for mRNA sequences"
   ]
  },
  {
   "cell_type": "code",
   "execution_count": 1,
   "id": "233951ed",
   "metadata": {},
   "outputs": [
    {
     "name": "stderr",
     "output_type": "stream",
     "text": [
      "/tmp/ipykernel_900186/1006876251.py:18: DeprecationWarning: 'modules.py' is deprecated and will be removed in a future release. Please import from 'estimators.py' instead.\n",
      "  from gfn.modules import (\n"
     ]
    }
   ],
   "source": [
    "from argparse import ArgumentParser\n",
    "from typing import Tuple\n",
    "\n",
    "import torch\n",
    "from torch.optim import Adam\n",
    "from tqdm import tqdm\n",
    "\n",
    "from gfn.gflownet import (\n",
    "    DBGFlowNet,\n",
    "    FMGFlowNet,\n",
    "    ModifiedDBGFlowNet,\n",
    "    SubTBGFlowNet,\n",
    "    TBGFlowNet,\n",
    ")\n",
    "\n",
    "from gfn.gym import HyperGrid\n",
    "\n",
    "from gfn.modules import (\n",
    "    ConditionalDiscretePolicyEstimator,\n",
    "    ConditionalScalarEstimator,\n",
    "    ScalarEstimator,\n",
    ")\n",
    "from gfn.utils.modules import MLP\n",
    "\n",
    "DEFAULT_SEED: int = 4444"
   ]
  },
  {
   "cell_type": "code",
   "execution_count": 2,
   "id": "7894d4e1",
   "metadata": {},
   "outputs": [],
   "source": [
    "def build_conditional_pf_pb(\n",
    "    env: HyperGrid,\n",
    ") -> Tuple[ConditionalDiscretePolicyEstimator, ConditionalDiscretePolicyEstimator]:\n",
    "\n",
    "    \"\"\"Build conditional policy forward and backward estimators.\n",
    "    Args:\n",
    "        env: The HyperGrid environment\n",
    "    Returns:\n",
    "        A tuple of (forward policy estimator, backward policy estimator)\n",
    "    \"\"\"\n",
    "\n",
    "    CONCAT_SIZE = 16\n",
    "    module_PF = MLP(\n",
    "        input_dim=env.n_states,\n",
    "        output_dim=CONCAT_SIZE,\n",
    "        hidden_dim=256,\n",
    "    )\n",
    "    module_PB = MLP(\n",
    "        input_dim=env.n_states,\n",
    "        output_dim=CONCAT_SIZE,\n",
    "        hidden_dim=256,\n",
    "        trunk=module_PF.trunk,\n",
    "    )\n",
    "\n",
    "    # Encoder for the Conditioning information.\n",
    "    module_cond = MLP(\n",
    "        input_dim=1,\n",
    "        output_dim=CONCAT_SIZE,\n",
    "        hidden_dim=256,\n",
    "    )\n",
    "\n",
    "    # Modules post-concatenation.\n",
    "    module_final_PF = MLP(\n",
    "        input_dim=CONCAT_SIZE * 2,\n",
    "        output_dim=env.n_actions,\n",
    "    )\n",
    "    module_final_PB = MLP(\n",
    "        input_dim=CONCAT_SIZE * 2,\n",
    "        output_dim=env.n_actions - 1,\n",
    "        trunk=module_final_PF.trunk,\n",
    "    )\n",
    "\n",
    "    pf_estimator = ConditionalDiscretePolicyEstimator(\n",
    "        module_PF,\n",
    "        module_cond,\n",
    "        module_final_PF,\n",
    "        env.n_actions,\n",
    "        is_backward=False,\n",
    "    )\n",
    "    pb_estimator = ConditionalDiscretePolicyEstimator(\n",
    "        module_PB,\n",
    "        module_cond,\n",
    "        module_final_PB,\n",
    "        env.n_actions,\n",
    "        is_backward=True,\n",
    "    )\n",
    "\n",
    "    return pf_estimator, pb_estimator"
   ]
  },
  {
   "cell_type": "code",
   "execution_count": 3,
   "id": "5812ca17",
   "metadata": {},
   "outputs": [],
   "source": [
    "def build_conditional_logF_scalar_estimator(\n",
    "    env: HyperGrid,\n",
    ") -> ConditionalScalarEstimator:\n",
    "    \"\"\"Build conditional log flow estimator.\n",
    "    Args:\n",
    "        env: The HyperGrid environment\n",
    "    Returns:\n",
    "        A conditional scalar estimator for log flow\n",
    "    \"\"\"\n",
    "    CONCAT_SIZE = 16\n",
    "\n",
    "    module_state_logF = MLP(\n",
    "        input_dim=env.n_states,\n",
    "        output_dim=CONCAT_SIZE,\n",
    "        hidden_dim=256,\n",
    "        n_hidden_layers=1,\n",
    "    )\n",
    "    module_conditioning_logF = MLP(\n",
    "        input_dim=1,\n",
    "        output_dim=CONCAT_SIZE,\n",
    "        hidden_dim=256,\n",
    "        n_hidden_layers=1,\n",
    "    )\n",
    "    module_final_logF = MLP(\n",
    "        input_dim=CONCAT_SIZE * 2,\n",
    "        output_dim=1,\n",
    "        hidden_dim=256,\n",
    "        n_hidden_layers=1,\n",
    "    )\n",
    "\n",
    "    logF_estimator = ConditionalScalarEstimator(\n",
    "        module_state_logF,\n",
    "        module_conditioning_logF,\n",
    "        module_final_logF,\n",
    "    )\n",
    "\n",
    "    return logF_estimator"
   ]
  },
  {
   "cell_type": "code",
   "execution_count": null,
   "id": "280c1b46",
   "metadata": {},
   "outputs": [],
   "source": [
    "# Build the GFlowNet -- Modules pre-concatenation.\n",
    "def build_tb_gflownet(env: HyperGrid) -> TBGFlowNet:\n",
    "\n",
    "    \"\"\"Build a Trajectory Balance GFlowNet.\n",
    "    Args:\n",
    "        env: The HyperGrid environment\n",
    "    Returns:\n",
    "        A TBGFlowNet instance\n",
    "    \"\"\"\n",
    "    pf_estimator, pb_estimator = build_conditional_pf_pb(env)\n",
    "\n",
    "    module_logZ = MLP(\n",
    "        input_dim=1,\n",
    "        output_dim=1,\n",
    "        hidden_dim=16,\n",
    "        n_hidden_layers=2,\n",
    "    )\n",
    "\n",
    "    logZ_estimator = ScalarEstimator(module_logZ)\n",
    "    gflownet = TBGFlowNet(logZ=logZ_estimator, pf=pf_estimator, pb=pb_estimator)\n",
    "\n",
    "    return gflownet\n"
   ]
  },
  {
   "cell_type": "code",
   "execution_count": 9,
   "id": "2c5faee6",
   "metadata": {},
   "outputs": [],
   "source": [
    "def train(env, gflownet, seed=42):\n",
    "\n",
    "    torch.manual_seed(seed)\n",
    "    exploration_rate = 0.5\n",
    "    lr = 0.0005\n",
    "\n",
    "    # Policy parameters and logZ/logF get independent LRs (logF/Z typically higher).\n",
    "    if type(gflownet) is TBGFlowNet:\n",
    "        optimizer = Adam(gflownet.pf_pb_parameters(), lr=lr)\n",
    "        optimizer.add_param_group({\"params\": gflownet.logz_parameters(), \"lr\": lr * 100})\n",
    "\n",
    "    elif type(gflownet) is DBGFlowNet or type(gflownet) is SubTBGFlowNet:\n",
    "        optimizer = Adam(gflownet.pf_pb_parameters(), lr=lr)\n",
    "        optimizer.add_param_group({\"params\": gflownet.logF_parameters(), \"lr\": lr * 100})\n",
    "\n",
    "    elif type(gflownet) is FMGFlowNet or type(gflownet) is ModifiedDBGFlowNet:\n",
    "        optimizer = Adam(gflownet.parameters(), lr=lr)\n",
    "\n",
    "    else:\n",
    "        print(\"Unknown gflownet type: {}\".format(type(gflownet)))\n",
    "\n",
    "    n_iterations = int(10)  # 1e4)\n",
    "    batch_size = int(1e4)\n",
    "\n",
    "    print(\"+ Training Conditional {}!\".format(type(gflownet)))\n",
    "\n",
    "    for _ in (pbar := tqdm(range(n_iterations))):\n",
    "\n",
    "        conditioning = torch.rand((batch_size, 1)).to(env.device)  # type: ignore\n",
    "        conditioning = (conditioning > 0.5).to(torch.float)  # Randomly 1 and zero.\n",
    "\n",
    "        trajectories = gflownet.sample_trajectories(\n",
    "            env,\n",
    "            n=batch_size,\n",
    "            conditioning=conditioning,\n",
    "            save_logprobs=False,\n",
    "            save_estimator_outputs=True,\n",
    "            epsilon=exploration_rate,\n",
    "        )\n",
    "        optimizer.zero_grad()\n",
    "        loss = gflownet.loss_from_trajectories(\n",
    "            env, trajectories, recalculate_all_logprobs=False\n",
    "        )\n",
    "        loss.backward()\n",
    "        optimizer.step()\n",
    "        pbar.set_postfix({\"loss\": loss.item()})\n",
    "\n",
    "    print(\"+ Training complete!\")"
   ]
  },
  {
   "cell_type": "code",
   "execution_count": 7,
   "id": "46cb3e9a",
   "metadata": {},
   "outputs": [
    {
     "name": "stderr",
     "output_type": "stream",
     "text": [
      "/home/ubuntu/aya/GFN_for_mRNA_design/torchgfn/src/gfn/gym/hypergrid.py:93: UserWarning: + Warning: height <= 4 can lead to unsolvable environments.\n",
      "  warnings.warn(\"+ Warning: height <= 4 can lead to unsolvable environments.\")\n",
      "/home/ubuntu/aya/GFN_for_mRNA_design/torchgfn/src/gfn/env.py:481: UserWarning: You're using advanced parameters: (sf). These are only needed for custom action handling. For basic environments, you can omit these.\n",
      "  warnings.warn(\n"
     ]
    }
   ],
   "source": [
    "environment = HyperGrid(\n",
    "        ndim=5,\n",
    "        height=2\n",
    "    )"
   ]
  },
  {
   "cell_type": "code",
   "execution_count": 1,
   "id": "8a880746",
   "metadata": {},
   "outputs": [],
   "source": [
    "t = 'MMFPQSRHSGSSHLPQQLKFTTSDSCDRIKDEFQLLQAQYHSLKLECDKLASEKSEMQRHYVMYYEMSYGLNIEMHKQAEIVKRLNGICAQVLPYLSQEHQQQVLGAIERAKQVTAPELNSIIRQQLQAHQLSQLQALALPLTPLPVGLQPPSLPAVSAGTGLLSLSALGSQAHLSKEDKNGHDGDTHQEDDGEKSD*'"
   ]
  },
  {
   "cell_type": "code",
   "execution_count": 2,
   "id": "e6f51a31",
   "metadata": {},
   "outputs": [
    {
     "data": {
      "text/plain": [
       "198"
      ]
     },
     "execution_count": 2,
     "metadata": {},
     "output_type": "execute_result"
    }
   ],
   "source": [
    "len(t)"
   ]
  },
  {
   "cell_type": "code",
   "execution_count": 3,
   "id": "38937dd9",
   "metadata": {},
   "outputs": [],
   "source": [
    "s = 'MGASARLLRAVIMGAPGSGKGTVSSRITTHFELKHLSSGDLLRDNMLRGTEIGVLAKAFIDQGKLIPDDVMTRLALHELKNLTQYSWLLDGFPRTLPQAEALDRAYQIDTVINLNVPFEVIKQRLTARWIHPASGRVYNIEFNPPKTVGIDDLTGEPLIQREDDKPETVIKRLKAYEDQTKPVLEYYQKKGVLETFSGTETNKIWPYVYAFLQTKVPQRSQKASVTP*'"
   ]
  },
  {
   "cell_type": "code",
   "execution_count": 4,
   "id": "2a5f8c12",
   "metadata": {},
   "outputs": [
    {
     "data": {
      "text/plain": [
       "228"
      ]
     },
     "execution_count": 4,
     "metadata": {},
     "output_type": "execute_result"
    }
   ],
   "source": [
    "len(s)"
   ]
  },
  {
   "cell_type": "code",
   "execution_count": 5,
   "id": "6c9c4ccd",
   "metadata": {},
   "outputs": [],
   "source": [
    "def dna_to_mrna(dna: str) -> str:\n",
    "    \"\"\"Convert a DNA sequence to an mRNA sequence by replacing T with U.\"\"\"\n",
    "    dna = dna.upper().replace(\" \", \"\")\n",
    "    mrna = dna.replace('T', 'U')\n",
    "    return mrna"
   ]
  },
  {
   "cell_type": "code",
   "execution_count": 6,
   "id": "5322e6a2",
   "metadata": {},
   "outputs": [],
   "source": [
    "dna = 'ATG GGG GCG TCC GCG CGG CTG CTG CGA GCG GTG ATC ATG GGG GCC CCG GGC TCG GGC AAG GGC ACC GTG TCG TCG CGC ATC ACT ACA CAC TTC GAG CTG AAG CAC CTC TCC AGC GGG GAC CTG CTC CGG GAC AAC ATG CTG CGG GGC ACA GAA ATT GGC GTG TTA GCC AAG GCT TTC ATT GAC CAA GGG AAA CTC ATC CCA GAT GAT GTC ATG ACT CGG CTG GCC CTT CAT GAG CTG AAA AAT CTC ACC CAG TAT AGC TGG CTG TTG GAT GGT TTT CCA AGG ACA CTT CCA CAG GCA GAA GCC CTA GAT AGA GCT TAT CAG ATC GAC ACA GTG ATT AAC CTG AAT GTG CCC TTT GAG GTC ATT AAA CAA CGC CTT ACT GCT CGC TGG ATT CAT CCC GCC AGT GGC CGA GTC TAT AAC ATT GAA TTC AAC CCT CCC AAA ACT GTG GGC ATT GAT GAC CTG ACT GGG GAG CCT CTC ATT CAG CGT GAG GAT GAT AAA CCA GAG ACG GTT ATC AAG AGA CTA AAG GCT TAT GAA GAC CAA ACA AAG CCA GTC CTG GAA TAT TAC CAG AAA AAA GGG GTG CTG GAA ACA TTC TCC GGA ACA GAA ACC AAC AAG ATT TGG CCC TAT GTA TAT GCT TTC CTA CAA ACT AAA GTT CCA CAA AGA AGC CAG AAA GCT TCA GTT ACT CCA TGA'"
   ]
  },
  {
   "cell_type": "code",
   "execution_count": 9,
   "id": "ca51ec24",
   "metadata": {},
   "outputs": [
    {
     "data": {
      "text/plain": [
       "'AUGGGGGCGUCCGCGCGGCUGCUGCGAGCGGUGAUCAUGGGGGCCCCGGGCUCGGGCAAGGGCACCGUGUCGUCGCGCAUCACUACACACUUCGAGCUGAAGCACCUCUCCAGCGGGGACCUGCUCCGGGACAACAUGCUGCGGGGCACAGAAAUUGGCGUGUUAGCCAAGGCUUUCAUUGACCAAGGGAAACUCAUCCCAGAUGAUGUCAUGACUCGGCUGGCCCUUCAUGAGCUGAAAAAUCUCACCCAGUAUAGCUGGCUGUUGGAUGGUUUUCCAAGGACACUUCCACAGGCAGAAGCCCUAGAUAGAGCUUAUCAGAUCGACACAGUGAUUAACCUGAAUGUGCCCUUUGAGGUCAUUAAACAACGCCUUACUGCUCGCUGGAUUCAUCCCGCCAGUGGCCGAGUCUAUAACAUUGAAUUCAACCCUCCCAAAACUGUGGGCAUUGAUGACCUGACUGGGGAGCCUCUCAUUCAGCGUGAGGAUGAUAAACCAGAGACGGUUAUCAAGAGACUAAAGGCUUAUGAAGACCAAACAAAGCCAGUCCUGGAAUAUUACCAGAAAAAAGGGGUGCUGGAAACAUUCUCCGGAACAGAAACCAACAAGAUUUGGCCCUAUGUAUAUGCUUUCCUACAAACUAAAGUUCCACAAAGAAGCCAGAAAGCUUCAGUUACUCCAUGA'"
      ]
     },
     "execution_count": 9,
     "metadata": {},
     "output_type": "execute_result"
    }
   ],
   "source": [
    "(dna_to_mrna(dna))"
   ]
  },
  {
   "cell_type": "code",
   "execution_count": 10,
   "id": "6b95b294",
   "metadata": {},
   "outputs": [],
   "source": [
    "f = \"MCSLGLFPPPPPRGQVTLYEHNNELVTGSSYESPPPDFRGQWINLPVLQLTKDPLKTPGRLDHGTRTAFIHHREQVWKRCINIWRDVGLFGVLNEIANSEEEVFEWVKTASGWALALCRWASSLHGSLFPHLSLRSEDLIAEFAQVTNWSSCCLRVFAWHPHTNKFAVALLDDSVRVYNASSTIVPSLKHRLQRNVASLAWKPLSASVLAVACQSCILIWTLDPTSLSTRPSSGCAQVLSHPGHTPVTSLAWAPSGGRLLSASPVDAAIRVWDVSTETCVPLPWFRGGGVTNLLWSPDGSKILATTPSAVFRVWEAQMWTCERWPTLSGRCQTGCWSPDGSRLLFTVLGEPLIYSLSFPERCGEGKGCVGGAKSATIVADLSETTIQTPDGEERLGGEAHSMVWDPSGERLAVLMKGKPRVQDGKPVILLFRTRNSPVFELLPCGIIQGEPGAQPQLITFHPSFNKGALLSVGWSTGRIAHIPLYFVNAQFPRFSPVLGRAQEPPAGGGGSIHDLPLFTETSPTSAPWDPLPGPPPVLPHSPHSHL*\""
   ]
  },
  {
   "cell_type": "code",
   "execution_count": 11,
   "id": "04f04b54",
   "metadata": {},
   "outputs": [
    {
     "data": {
      "text/plain": [
       "547"
      ]
     },
     "execution_count": 11,
     "metadata": {},
     "output_type": "execute_result"
    }
   ],
   "source": [
    "len(f)"
   ]
  },
  {
   "cell_type": "code",
   "execution_count": 12,
   "id": "a02e91ca",
   "metadata": {},
   "outputs": [],
   "source": [
    "g = 'MDSEVQRDGRILDLIDDAWREDKLPYEDVAIPLNELPEPEQDNGGTTESVKEQEMKWTDLALQYLHENVPPIGN*'"
   ]
  },
  {
   "cell_type": "code",
   "execution_count": 13,
   "id": "1aa984f2",
   "metadata": {},
   "outputs": [
    {
     "data": {
      "text/plain": [
       "75"
      ]
     },
     "execution_count": 13,
     "metadata": {},
     "output_type": "execute_result"
    }
   ],
   "source": [
    "len(g)"
   ]
  },
  {
   "cell_type": "code",
   "execution_count": 14,
   "id": "c8161780",
   "metadata": {},
   "outputs": [],
   "source": [
    "dna = 'ATG GAC AGT GAG GTT CAG AGA GAT GGA AGG ATC TTG GAT TTG ATT GAT GAT GCT TGG CGA GAA GAC AAG CTG CCT TAT GAG GAT GTC GCA ATA CCA CTG AAT GAG CTT CCT GAA CCT GAA CAA GAC AAT GGT GGC ACC ACA GAA TCT GTC AAA GAA CAA GAA ATG AAG TGG ACA GAC TTA GCC TTA CAG TAC CTC CAT GAG AAT GTT CCC CCC ATT GGA AAC TGA'"
   ]
  },
  {
   "cell_type": "code",
   "execution_count": 15,
   "id": "43077005",
   "metadata": {},
   "outputs": [
    {
     "data": {
      "text/plain": [
       "'AUGGACAGUGAGGUUCAGAGAGAUGGAAGGAUCUUGGAUUUGAUUGAUGAUGCUUGGCGAGAAGACAAGCUGCCUUAUGAGGAUGUCGCAAUACCACUGAAUGAGCUUCCUGAACCUGAACAAGACAAUGGUGGCACCACAGAAUCUGUCAAAGAACAAGAAAUGAAGUGGACAGACUUAGCCUUACAGUACCUCCAUGAGAAUGUUCCCCCCAUUGGAAACUGA'"
      ]
     },
     "execution_count": 15,
     "metadata": {},
     "output_type": "execute_result"
    }
   ],
   "source": [
    "(dna_to_mrna(dna))"
   ]
  },
  {
   "cell_type": "code",
   "execution_count": 16,
   "id": "22e1f268",
   "metadata": {},
   "outputs": [],
   "source": [
    "s = 'MTSMTQSLREVIKAMTKARNFERVLGKITLVSAAPGKVICEMKVEEEHTNAIGTLHGGLTATLVDNISTMALLCTERGAPGVSVDMNITYMSPAKLGEDIVITAHVLKQGKTLAFTSVDLTNKATGKLIAQGRHTKHLGN*'"
   ]
  },
  {
   "cell_type": "code",
   "execution_count": 17,
   "id": "7fdddbce",
   "metadata": {},
   "outputs": [
    {
     "data": {
      "text/plain": [
       "141"
      ]
     },
     "execution_count": 17,
     "metadata": {},
     "output_type": "execute_result"
    }
   ],
   "source": [
    "len(s)"
   ]
  },
  {
   "cell_type": "code",
   "execution_count": 19,
   "id": "e30c1619",
   "metadata": {},
   "outputs": [
    {
     "data": {
      "text/plain": [
       "tensor([[[0.0298, 0.5758, 0.0476],\n",
       "         [0.6708, 0.9973, 0.1954]],\n",
       "\n",
       "        [[0.2637, 0.2925, 0.6079],\n",
       "         [0.3303, 0.6801, 0.6996]],\n",
       "\n",
       "        [[0.3959, 0.9561, 0.7664],\n",
       "         [0.2526, 0.2801, 0.9920]],\n",
       "\n",
       "        [[0.8828, 0.9636, 0.6264],\n",
       "         [0.6238, 0.4503, 0.5629]]])"
      ]
     },
     "execution_count": 19,
     "metadata": {},
     "output_type": "execute_result"
    }
   ],
   "source": [
    "torch.rand([4,2,3])"
   ]
  },
  {
   "cell_type": "code",
   "execution_count": 2,
   "id": "a4ed5943",
   "metadata": {},
   "outputs": [],
   "source": [
    "weights = torch.rand(3)"
   ]
  },
  {
   "cell_type": "code",
   "execution_count": 4,
   "id": "10a6c3eb",
   "metadata": {},
   "outputs": [],
   "source": [
    "conditioning = torch.rand(3)\n",
    "conditioning = conditioning.unsqueeze(0).expand(2, *conditioning.shape)"
   ]
  },
  {
   "cell_type": "code",
   "execution_count": 5,
   "id": "05d400a4",
   "metadata": {},
   "outputs": [
    {
     "data": {
      "text/plain": [
       "torch.Size([2, 3])"
      ]
     },
     "execution_count": 5,
     "metadata": {},
     "output_type": "execute_result"
    }
   ],
   "source": [
    "conditioning.shape"
   ]
  },
  {
   "cell_type": "code",
   "execution_count": 17,
   "id": "a3d32512",
   "metadata": {},
   "outputs": [],
   "source": [
    "conditioning = torch.rand(3)\n",
    "conditioning = conditioning.unsqueeze(0).expand(2, *conditioning.shape)\n",
    "conditioning = conditioning.expand((141+2,) + conditioning.shape)"
   ]
  },
  {
   "cell_type": "code",
   "execution_count": 18,
   "id": "fc37addb",
   "metadata": {},
   "outputs": [
    {
     "data": {
      "text/plain": [
       "torch.Size([143, 2, 3])"
      ]
     },
     "execution_count": 18,
     "metadata": {},
     "output_type": "execute_result"
    }
   ],
   "source": [
    "conditioning.shape"
   ]
  },
  {
   "cell_type": "code",
   "execution_count": null,
   "id": "c9989001",
   "metadata": {},
   "outputs": [],
   "source": [
    "conditioning = conditioning.expand((143,) + conditioning.shape)"
   ]
  },
  {
   "cell_type": "code",
   "execution_count": 10,
   "id": "07eb5ab2",
   "metadata": {},
   "outputs": [
    {
     "data": {
      "text/plain": [
       "torch.Size([143, 2, 3])"
      ]
     },
     "execution_count": 10,
     "metadata": {},
     "output_type": "execute_result"
    }
   ],
   "source": [
    "conditioning.shape"
   ]
  },
  {
   "cell_type": "code",
   "execution_count": null,
   "id": "a2b3cb7b",
   "metadata": {},
   "outputs": [
    {
     "ename": "RuntimeError",
     "evalue": "The expanded size of the tensor (100) must match the existing size (2) at non-singleton dimension 1.  Target sizes: [2, 100, 3].  Tensor sizes: [2, 3]",
     "output_type": "error",
     "traceback": [
      "\u001b[0;31m---------------------------------------------------------------------------\u001b[0m",
      "\u001b[0;31mRuntimeError\u001b[0m                              Traceback (most recent call last)",
      "Cell \u001b[0;32mIn[39], line 1\u001b[0m\n\u001b[0;32m----> 1\u001b[0m conditioning \u001b[38;5;241m=\u001b[39m \u001b[43mconditioning\u001b[49m\u001b[38;5;241;43m.\u001b[39;49m\u001b[43mexpand\u001b[49m\u001b[43m(\u001b[49m\u001b[43m(\u001b[49m\u001b[38;5;241;43m2\u001b[39;49m\u001b[43m,\u001b[49m\u001b[38;5;241;43m100\u001b[39;49m\u001b[43m)\u001b[49m\u001b[43m \u001b[49m\u001b[38;5;241;43m+\u001b[39;49m\u001b[43m \u001b[49m\u001b[43m(\u001b[49m\u001b[43mconditioning\u001b[49m\u001b[38;5;241;43m.\u001b[39;49m\u001b[43mshape\u001b[49m\u001b[43m[\u001b[49m\u001b[38;5;241;43m1\u001b[39;49m\u001b[43m]\u001b[49m\u001b[43m,\u001b[49m\u001b[43m)\u001b[49m\u001b[43m)\u001b[49m\n",
      "\u001b[0;31mRuntimeError\u001b[0m: The expanded size of the tensor (100) must match the existing size (2) at non-singleton dimension 1.  Target sizes: [2, 100, 3].  Tensor sizes: [2, 3]"
     ]
    }
   ],
   "source": [
    "conditioning = conditioning.expand((2,) + conditioning.shape)"
   ]
  },
  {
   "cell_type": "code",
   "execution_count": 29,
   "id": "4ebd7507",
   "metadata": {},
   "outputs": [
    {
     "data": {
      "text/plain": [
       "torch.Size([2, 100, 2, 3])"
      ]
     },
     "execution_count": 29,
     "metadata": {},
     "output_type": "execute_result"
    }
   ],
   "source": [
    "conditioning.shape"
   ]
  },
  {
   "cell_type": "code",
   "execution_count": 1,
   "id": "87ac8b6e",
   "metadata": {},
   "outputs": [
    {
     "data": {
      "image/png": "[encoded data removed]",
      "text/plain": [
       "<Figure size 800x1000 with 1 Axes>"
      ]
     },
     "metadata": {},
     "output_type": "display_data"
    }
   ],
   "source": [
    "import matplotlib.pyplot as plt\n",
    "\n",
    "feature_importances = {\n",
    "    \"gc3\": 0.8507,\n",
    "    \"codon_GCG\": 0.0298,\n",
    "    \"codon_TTA\": 0.0185,\n",
    "    \"codon_TTG\": 0.0115,\n",
    "    \"codon_CCG\": 0.0096,\n",
    "    \"aa_L\": 0.0082,\n",
    "    \"codon_ATA\": 0.0077,\n",
    "    \"codon_ACG\": 0.0019,\n",
    "    \"codon_TCG\": 0.0019,\n",
    "    \"codon_GTT\": 0.0018,\n",
    "    \"codon_CTT\": 0.0017,\n",
    "    \"gc\": 0.0015,\n",
    "    \"codon_GAC\": 0.0015,\n",
    "    \"aa_A\": 0.0014,\n",
    "    \"codon_GCA\": 0.0014,\n",
    "    \"codon_CTA\": 0.0013,\n",
    "    \"codon_GAG\": 0.0013,\n",
    "    \"codon_AAG\": 0.0013,\n",
    "    \"codon_CAA\": 0.0012,\n",
    "    \"aa_D\": 0.0012,\n",
    "    \"codon_GTA\": 0.0011,\n",
    "    \"aa_S\": 0.0010,\n",
    "    \"codon_CCT\": 0.0010,\n",
    "    \"codon_TGT\": 0.0010,\n",
    "    \"codon_AGA\": 0.0010,\n",
    "    \"codon_GAT\": 0.0009,\n",
    "    \"codon_GGA\": 0.0009,\n",
    "    \"aa_C\": 0.0009,\n",
    "    \"codon_TCC\": 0.0009,\n",
    "    \"codon_CTC\": 0.0009\n",
    "}\n",
    "\n",
    "features = list(feature_importances.keys())\n",
    "importances = list(feature_importances.values())\n",
    "\n",
    "sorted_idx = sorted(range(len(importances)), key=lambda i: importances[i], reverse=True)\n",
    "sorted_features = [features[i] for i in sorted_idx]\n",
    "sorted_importances = [importances[i] for i in sorted_idx]\n",
    "\n",
    "plt.figure(figsize=(8, 10))\n",
    "plt.barh(sorted_features, sorted_importances, color=\"skyblue\")\n",
    "plt.xlabel(\"Feature Importance\", fontsize=12)\n",
    "plt.ylabel(\"Features\", fontsize=12)\n",
    "plt.title(\"Top 30 Random Forest Features for CAI Prediction\", fontsize=14)\n",
    "plt.gca().invert_yaxis()  # Highest importance at top\n",
    "plt.tight_layout()\n",
    "plt.show()\n"
   ]
  },
  {
   "cell_type": "code",
   "execution_count": null,
   "id": "f42c7a71",
   "metadata": {},
   "outputs": [],
   "source": []
  }
 ],
 "metadata": {
  "kernelspec": {
   "display_name": "mRNA_env",
   "language": "python",
   "name": "python3"
  },
  "language_info": {
   "codemirror_mode": {
    "name": "ipython",
    "version": 3
   },
   "file_extension": ".py",
   "mimetype": "text/x-python",
   "name": "python",
   "nbconvert_exporter": "python",
   "pygments_lexer": "ipython3",
   "version": "3.10.16"
  }
 },
 "nbformat": 4,
 "nbformat_minor": 5
}
